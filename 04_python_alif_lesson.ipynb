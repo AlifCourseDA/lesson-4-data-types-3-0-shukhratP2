{
 "cells": [
  {
   "attachments": {
    "image-2.png": {
     "image/png": "[encoded data removed]"
    }
   },
   "cell_type": "markdown",
   "id": "72604ce5",
   "metadata": {
    "slideshow": {
     "slide_type": "slide"
    }
   },
   "source": [
    "![image-2.png](attachment:image-2.png)"
   ]
  },
  {
   "cell_type": "markdown",
   "id": "00dd6fb6",
   "metadata": {
    "slideshow": {
     "slide_type": "fragment"
    }
   },
   "source": [
    "# Модуль 1.1: Python для аналитиков\n",
    "\n",
    "### Операции над типами данных\n",
    "\n",
    "### Файл для занятия"
   ]
  },
  {
   "cell_type": "markdown",
   "id": "579ea4d4",
   "metadata": {
    "slideshow": {
     "slide_type": "slide"
    }
   },
   "source": [
    "Important features of lists:\n",
    "- Lists are ordered.\n",
    "- Lists can contain any arbitrary objects.\n",
    "- List elements can be accessed by index.\n",
    "- Lists can be nested to arbitrary depth.\n",
    "- Lists are mutable.\n",
    "- Lists are dynamic.\n",
    "\n",
    "Check out [Real Python](https://realpython.com/python-lists-tuples/)"
   ]
  },
  {
   "cell_type": "markdown",
   "id": "693c0071",
   "metadata": {
    "slideshow": {
     "slide_type": "slide"
    }
   },
   "source": [
    "### Lists are ordered\n",
    "\n",
    "В каком порядке инициализировали лист, в таком же порядке он останется"
   ]
  },
  {
   "cell_type": "code",
   "execution_count": 2,
   "id": "0117d04c",
   "metadata": {
    "slideshow": {
     "slide_type": "fragment"
    }
   },
   "outputs": [
    {
     "name": "stdout",
     "output_type": "stream",
     "text": [
      "['apple', 'banana', 'orange']\n"
     ]
    }
   ],
   "source": [
    "fruits = ['apple', 'banana', 'orange']\n",
    "print(fruits)  # Output: ['apple', 'banana', 'orange']"
   ]
  },
  {
   "cell_type": "markdown",
   "id": "602fe927",
   "metadata": {
    "slideshow": {
     "slide_type": "slide"
    }
   },
   "source": [
    "### Lists can contain any arbitrary objects\n",
    "\n",
    "Обсудили на прошлом занятии"
   ]
  },
  {
   "cell_type": "code",
   "execution_count": 3,
   "id": "eba18258",
   "metadata": {
    "slideshow": {
     "slide_type": "fragment"
    }
   },
   "outputs": [
    {
     "name": "stdout",
     "output_type": "stream",
     "text": [
      "[1, 'hello', 3.14, True, [1, 2, 3]]\n"
     ]
    }
   ],
   "source": [
    "mixed_list = [1, 'hello', 3.14, True, [1, 2, 3]]\n",
    "print(mixed_list)"
   ]
  },
  {
   "cell_type": "markdown",
   "id": "de2cde49",
   "metadata": {
    "slideshow": {
     "slide_type": "slide"
    }
   },
   "source": [
    "### List elements can be accessed by index"
   ]
  },
  {
   "cell_type": "code",
   "execution_count": 4,
   "id": "be7d3659",
   "metadata": {
    "slideshow": {
     "slide_type": "fragment"
    }
   },
   "outputs": [
    {
     "name": "stdout",
     "output_type": "stream",
     "text": [
      "30\n"
     ]
    }
   ],
   "source": [
    "numbers = [10, 20, 30, 40, 50]\n",
    "print(numbers[2])  # Output: 30"
   ]
  },
  {
   "cell_type": "markdown",
   "id": "05b34e91",
   "metadata": {
    "slideshow": {
     "slide_type": "slide"
    }
   },
   "source": [
    "### LIsts can be nested to arbitrary depth\n",
    "\n",
    "Это свойств, грубо говоря, следует из второго"
   ]
  },
  {
   "cell_type": "code",
   "execution_count": null,
   "id": "3881ca51",
   "metadata": {
    "slideshow": {
     "slide_type": "fragment"
    }
   },
   "outputs": [],
   "source": [
    "nested_list = [[1, 2, 3], ['a', 'b', 'c'], [True, False]]\n",
    "print(nested_list)  # Output: [[1, 2, 3], ['a', 'b', 'c'], [True, False]]"
   ]
  },
  {
   "cell_type": "markdown",
   "id": "32f4d8a1",
   "metadata": {
    "slideshow": {
     "slide_type": "slide"
    }
   },
   "source": [
    "### Lists are mutable \n",
    "\n",
    "Ну это мы точно запомнили, lol &#128512;"
   ]
  },
  {
   "cell_type": "code",
   "execution_count": null,
   "id": "994d5cc6",
   "metadata": {
    "slideshow": {
     "slide_type": "fragment"
    }
   },
   "outputs": [],
   "source": [
    "colors = ['red', 'green', 'blue']\n",
    "colors[1] = 'yellow'\n",
    "print(colors)  # Output: ['red', 'yellow', 'blue']"
   ]
  },
  {
   "cell_type": "markdown",
   "id": "bccd3be9",
   "metadata": {
    "slideshow": {
     "slide_type": "slide"
    }
   },
   "source": [
    "### Lists are dynamic\n",
    "\n",
    "Тоже следует из mutability"
   ]
  },
  {
   "cell_type": "code",
   "execution_count": 5,
   "id": "e2190224",
   "metadata": {
    "slideshow": {
     "slide_type": "fragment"
    }
   },
   "outputs": [
    {
     "name": "stdout",
     "output_type": "stream",
     "text": [
      "[1, 2, 3, 4]\n",
      "[1, 3, 4]\n"
     ]
    }
   ],
   "source": [
    "dynamic_list = [1, 2, 3]\n",
    "dynamic_list.append(4)\n",
    "print(dynamic_list)  # Output: [1, 2, 3, 4]\n",
    "\n",
    "dynamic_list.remove(2)\n",
    "print(dynamic_list)  # Output: [1, 3, 4]"
   ]
  },
  {
   "cell_type": "markdown",
   "id": "4f71e94b",
   "metadata": {
    "slideshow": {
     "slide_type": "slide"
    }
   },
   "source": [
    "####  Основные свойства повторили. Но зачем все это?"
   ]
  },
  {
   "cell_type": "markdown",
   "id": "2de321c1",
   "metadata": {
    "slideshow": {
     "slide_type": "slide"
    }
   },
   "source": [
    "#### Перейдем к следующему важному примеру со списками"
   ]
  },
  {
   "cell_type": "markdown",
   "id": "a8826e1c",
   "metadata": {
    "slideshow": {
     "slide_type": "slide"
    }
   },
   "source": [
    "### Variable Assignment vs Mutation\n",
    "\n",
    "- Переменные изменяемых типов данных могут изменить свое значение без создания новой переменной с тем же именем. У переменной **сохранится идентификатор**.\n",
    "\n",
    "- Операция присваивания (=) создает новую переменную с новым идентификатором, даже для изменяемых типов данных. (**ВАЖНЫЙ МОМЕНТ**)"
   ]
  },
  {
   "cell_type": "markdown",
   "id": "3134f1d4",
   "metadata": {
    "slideshow": {
     "slide_type": "fragment"
    }
   },
   "source": [
    "Mutation\n",
    "\n",
    "```python\n",
    "numbers = [1, 2, 3]\n",
    "print(f\"{numbers}, id = {id(numbers)}\")\n",
    "numbers += [4]\n",
    "print(f\"{numbers}, id = {id(numbers)}\")\n",
    "```\n",
    "\n",
    "Assignment\n",
    "```python \n",
    "numbers = [1, 2, 3]\n",
    "print(f\"{numbers}, id = {id(numbers)}\")\n",
    "numbers = numbers + [4]\n",
    "print(f\"{numbers}, id = {id(numbers)}\")\n",
    "```"
   ]
  },
  {
   "cell_type": "code",
   "execution_count": 2,
   "id": "e53debe9",
   "metadata": {
    "slideshow": {
     "slide_type": "slide"
    }
   },
   "outputs": [
    {
     "name": "stdout",
     "output_type": "stream",
     "text": [
      "[1, 2, 3], id = 140573615461696\n",
      "[1, 2, 3, 4], id = 140573615461696\n"
     ]
    }
   ],
   "source": [
    "numbers = [1, 2, 3]\n",
    "print(f\"{numbers}, id = {id(numbers)}\")\n",
    "numbers += [4]\n",
    "print(f\"{numbers}, id = {id(numbers)}\")"
   ]
  },
  {
   "cell_type": "code",
   "execution_count": 3,
   "id": "407180f1",
   "metadata": {
    "slideshow": {
     "slide_type": "fragment"
    }
   },
   "outputs": [
    {
     "name": "stdout",
     "output_type": "stream",
     "text": [
      "[1, 2, 3], id = 140573615345984\n",
      "[1, 2, 3, 4], id = 140573615461696\n"
     ]
    }
   ],
   "source": [
    "numbers = [1, 2, 3]\n",
    "print(f\"{numbers}, id = {id(numbers)}\")\n",
    "numbers = numbers + [4]\n",
    "print(f\"{numbers}, id = {id(numbers)}\")"
   ]
  },
  {
   "cell_type": "markdown",
   "id": "0bf6d010",
   "metadata": {
    "slideshow": {
     "slide_type": "slide"
    }
   },
   "source": [
    "#### Здесь тоже наглядно видно, что = создает новую переменную с новым идентификатором"
   ]
  },
  {
   "cell_type": "code",
   "execution_count": null,
   "id": "41c4479c",
   "metadata": {
    "slideshow": {
     "slide_type": "fragment"
    }
   },
   "outputs": [],
   "source": [
    "list1 = []\n",
    "list2 = []\n",
    " \n",
    "print(id(list1))\n",
    "print(id(list2))"
   ]
  },
  {
   "cell_type": "markdown",
   "id": "f01a486c",
   "metadata": {
    "slideshow": {
     "slide_type": "fragment"
    }
   },
   "source": [
    "У переменной изменился идентификатор, значит она была создана заново."
   ]
  },
  {
   "cell_type": "markdown",
   "id": "ccd63fcc",
   "metadata": {
    "slideshow": {
     "slide_type": "slide"
    }
   },
   "source": [
    "### Изменение x -> изменение y \n",
    "\n",
    "Если две переменных изменяемого типа имеют одинаковые ссылки на значение, то изменение одной из этих переменных повлечёт за собой одновременное изменение и другой.\n",
    "\n",
    "Это тоже важное свойство изменяемых типов данных."
   ]
  },
  {
   "cell_type": "code",
   "execution_count": 5,
   "id": "88a7b7a0",
   "metadata": {
    "slideshow": {
     "slide_type": "slide"
    }
   },
   "outputs": [
    {
     "name": "stdout",
     "output_type": "stream",
     "text": [
      "True\n",
      "[0, 2, 3]\n",
      "[0, 2, 3]\n",
      "True\n"
     ]
    }
   ],
   "source": [
    "x = [1, 2, 3]\n",
    "y = x\n",
    "print(x is y)\n",
    "x[0] = 0\n",
    "print(x)\n",
    "print(y)\n",
    "print(x is y)"
   ]
  },
  {
   "cell_type": "code",
   "execution_count": 6,
   "id": "7a673492",
   "metadata": {
    "slideshow": {
     "slide_type": "fragment"
    }
   },
   "outputs": [
    {
     "name": "stdout",
     "output_type": "stream",
     "text": [
      "False\n",
      "[0, 2, 3]\n",
      "[1, 2, 3]\n",
      "False\n"
     ]
    }
   ],
   "source": [
    "x = [1, 2, 3]\n",
    "y = x[:]\n",
    "print(x is y)\n",
    "x[0] = 0\n",
    "print(x)\n",
    "print(y)\n",
    "print(x is y)"
   ]
  },
  {
   "cell_type": "markdown",
   "id": "bf57584e",
   "metadata": {
    "slideshow": {
     "slide_type": "slide"
    }
   },
   "source": [
    "### Здесь также важно запомнить принципиальное отличие == от is \n",
    "\n",
    "Оператор равенства **==** сравнивает равенство значений/содержания двух объектов, а **is** проверяет обращение (ссылку) к одному и тому же объекту в памяти.\n",
    "\n",
    "Подробдее на [Real Python](https://realpython.com/courses/python-is-identity-vs-equality/#:~:text=The%20%3D%3D%20operator%20compares%20the,you're%20comparing%20to%20None%20.) и [GeeksForGeeks](https://www.geeksforgeeks.org/difference-between-and-is-operator-in-python/)"
   ]
  },
  {
   "cell_type": "markdown",
   "id": "4c77f648",
   "metadata": {
    "slideshow": {
     "slide_type": "slide"
    }
   },
   "source": [
    "#### Рассмотрим еще один пример"
   ]
  },
  {
   "cell_type": "code",
   "execution_count": 7,
   "id": "555c0c12",
   "metadata": {
    "slideshow": {
     "slide_type": "fragment"
    }
   },
   "outputs": [
    {
     "name": "stdout",
     "output_type": "stream",
     "text": [
      "[True, True, True]\n"
     ]
    }
   ],
   "source": [
    "numbers = [[1, 2, 3],\n",
    "           [4, 5, 6],\n",
    "           [7, 8, 9]]\n",
    "numbers_copy = numbers[:]\n",
    "print([numbers_copy[i] is numbers[i] for i in range(len(numbers))])"
   ]
  },
  {
   "cell_type": "code",
   "execution_count": 8,
   "id": "34c334ec",
   "metadata": {
    "slideshow": {
     "slide_type": "slide"
    }
   },
   "outputs": [
    {
     "name": "stdout",
     "output_type": "stream",
     "text": [
      "[False, False, False]\n"
     ]
    }
   ],
   "source": [
    "numbers = [[1, 2, 3],\n",
    "           [4, 5, 6],\n",
    "           [7, 8, 9]]\n",
    "numbers_copy = [elem[:] for elem in numbers]\n",
    "print([numbers_copy[i] is numbers[i] for i in range(len(numbers))])"
   ]
  },
  {
   "cell_type": "code",
   "execution_count": null,
   "id": "e8362ca8",
   "metadata": {},
   "outputs": [],
   "source": [
    "# альтернатива срезу для копирования списков\n",
    "\n",
    "from copy import deepcopy\n",
    "\n",
    "numbers = [[1, 2, 3],\n",
    "           [4, 5, 6],\n",
    "           [7, 8, 9]]\n",
    "numbers_copy = deepcopy(numbers)\n",
    "print([numbers_copy[i] is numbers[i] for i in range(len(numbers))])"
   ]
  },
  {
   "cell_type": "markdown",
   "id": "6f6df325",
   "metadata": {
    "slideshow": {
     "slide_type": "slide"
    }
   },
   "source": [
    "### Давайте перейдем к свойстам кортежей (tuples)"
   ]
  },
  {
   "cell_type": "markdown",
   "id": "54365851",
   "metadata": {
    "slideshow": {
     "slide_type": "slide"
    }
   },
   "source": [
    "Important features of tuples:\n",
    "- Tuples are ordered, indexed collections of data.\n",
    "- Tuples can store duplicate values.\n",
    "- Immutable\n",
    "- Several data values in one variable\n",
    "\n",
    "\n",
    "Перейдем в Jupyter Notebook для большей информации"
   ]
  },
  {
   "cell_type": "markdown",
   "id": "87f64b00",
   "metadata": {
    "slideshow": {
     "slide_type": "slide"
    }
   },
   "source": [
    "#### Tuples are ordered "
   ]
  },
  {
   "cell_type": "code",
   "execution_count": 9,
   "id": "22d06eb4",
   "metadata": {
    "slideshow": {
     "slide_type": "fragment"
    }
   },
   "outputs": [
    {
     "name": "stdout",
     "output_type": "stream",
     "text": [
      "Ordered Tuple: (10, 'apple', 3.14, True)\n"
     ]
    }
   ],
   "source": [
    "ordered_tuple = (10, 'apple', 3.14, True)\n",
    "print(\"Ordered Tuple:\", ordered_tuple)"
   ]
  },
  {
   "cell_type": "markdown",
   "id": "0522f174",
   "metadata": {
    "slideshow": {
     "slide_type": "slide"
    }
   },
   "source": [
    "#### Tuples can contain any arbitrary objects"
   ]
  },
  {
   "cell_type": "code",
   "execution_count": 10,
   "id": "9645674b",
   "metadata": {
    "slideshow": {
     "slide_type": "fragment"
    }
   },
   "outputs": [
    {
     "name": "stdout",
     "output_type": "stream",
     "text": [
      "Mixed Tuple: (1, 'hello', [1, 2, 3], (4, 5, 6))\n"
     ]
    }
   ],
   "source": [
    "mixed_tuple = (1, 'hello', [1, 2, 3], (4, 5, 6))\n",
    "print(\"Mixed Tuple:\", mixed_tuple)"
   ]
  },
  {
   "cell_type": "markdown",
   "id": "fa9c261d",
   "metadata": {
    "slideshow": {
     "slide_type": "slide"
    }
   },
   "source": [
    "#### Tuple elements can be accessed by index"
   ]
  },
  {
   "cell_type": "code",
   "execution_count": 11,
   "id": "7533405a",
   "metadata": {
    "slideshow": {
     "slide_type": "fragment"
    }
   },
   "outputs": [
    {
     "name": "stdout",
     "output_type": "stream",
     "text": [
      "Accessing by Index: 3.14\n"
     ]
    }
   ],
   "source": [
    "print(\"Accessing by Index:\", ordered_tuple[2])"
   ]
  },
  {
   "cell_type": "markdown",
   "id": "4095c080",
   "metadata": {
    "slideshow": {
     "slide_type": "slide"
    }
   },
   "source": [
    "#### Tuples can be nested to arbitrary depth"
   ]
  },
  {
   "cell_type": "code",
   "execution_count": 12,
   "id": "ca3153ad",
   "metadata": {
    "slideshow": {
     "slide_type": "fragment"
    }
   },
   "outputs": [
    {
     "name": "stdout",
     "output_type": "stream",
     "text": [
      "Nested Tuple: ((1, 2, 3), ('a', 'b', 'c'), True, (4.5, 6.7))\n"
     ]
    }
   ],
   "source": [
    "nested_tuple = ((1, 2, 3), ('a', 'b', 'c'), True, (4.5, 6.7))\n",
    "print(\"Nested Tuple:\", nested_tuple)"
   ]
  },
  {
   "cell_type": "markdown",
   "id": "cfb43af9",
   "metadata": {
    "slideshow": {
     "slide_type": "slide"
    }
   },
   "source": [
    "#### Tuples are immutable"
   ]
  },
  {
   "cell_type": "code",
   "execution_count": 14,
   "id": "6d25b1d1",
   "metadata": {
    "slideshow": {
     "slide_type": "fragment"
    }
   },
   "outputs": [],
   "source": [
    "immutable_tuple = (1, 2, 3)\n",
    "# Uncommenting the next line will raise an error\n",
    "# immutable_tuple[1] = 5"
   ]
  },
  {
   "cell_type": "markdown",
   "id": "c5972b87",
   "metadata": {
    "slideshow": {
     "slide_type": "slide"
    }
   },
   "source": [
    "#### Tuple packing and unpacking"
   ]
  },
  {
   "cell_type": "code",
   "execution_count": 15,
   "id": "dec8b430",
   "metadata": {
    "slideshow": {
     "slide_type": "fragment"
    }
   },
   "outputs": [
    {
     "name": "stdout",
     "output_type": "stream",
     "text": [
      "Packed Tuple: (1, 'apple', 3.14)\n",
      "Unpacked Variables: 1 apple 3.14\n"
     ]
    }
   ],
   "source": [
    "packed_tuple = 1, 'apple', 3.14\n",
    "print(\"Packed Tuple:\", packed_tuple)\n",
    "x, y, z = packed_tuple\n",
    "print(\"Unpacked Variables:\", x, y, z)"
   ]
  },
  {
   "cell_type": "markdown",
   "id": "f143a48d",
   "metadata": {
    "slideshow": {
     "slide_type": "slide"
    }
   },
   "source": [
    "#### Tuples are dynamic (you can concatenate them)"
   ]
  },
  {
   "cell_type": "code",
   "execution_count": 16,
   "id": "60f4ff06",
   "metadata": {
    "slideshow": {
     "slide_type": "fragment"
    }
   },
   "outputs": [
    {
     "name": "stdout",
     "output_type": "stream",
     "text": [
      "Dynamic Tuple: (1, 2, 3, 4, 5, 6)\n"
     ]
    }
   ],
   "source": [
    "dynamic_tuple = (1, 2, 3) + (4, 5, 6)\n",
    "print(\"Dynamic Tuple:\", dynamic_tuple)"
   ]
  },
  {
   "cell_type": "markdown",
   "id": "143ef247",
   "metadata": {
    "slideshow": {
     "slide_type": "slide"
    }
   },
   "source": [
    "#### Slicing tuples"
   ]
  },
  {
   "cell_type": "code",
   "execution_count": 17,
   "id": "28d9b347",
   "metadata": {
    "slideshow": {
     "slide_type": "fragment"
    }
   },
   "outputs": [
    {
     "name": "stdout",
     "output_type": "stream",
     "text": [
      "Sliced Tuple: (20, 30, 40)\n"
     ]
    }
   ],
   "source": [
    "sliced_tuple = (10, 20, 30, 40, 50)\n",
    "print(\"Sliced Tuple:\", sliced_tuple[1:4])"
   ]
  },
  {
   "cell_type": "markdown",
   "id": "539fefde",
   "metadata": {
    "slideshow": {
     "slide_type": "slide"
    }
   },
   "source": [
    "### Перейдем ко множествам (sets)"
   ]
  },
  {
   "cell_type": "markdown",
   "id": "4f5983a3",
   "metadata": {
    "slideshow": {
     "slide_type": "slide"
    }
   },
   "source": [
    "Important features of sets:\n",
    "- Sets are unordered.\n",
    "- Set elements are unique. Duplicate elements are not allowed.\n",
    "- A set itself may be modified, but the elements contained in the set must be of an immutable type."
   ]
  },
  {
   "cell_type": "markdown",
   "id": "84f2f9cc",
   "metadata": {
    "slideshow": {
     "slide_type": "slide"
    }
   },
   "source": [
    "#### Sets can not contain mutable objects"
   ]
  },
  {
   "cell_type": "code",
   "execution_count": 19,
   "id": "ec9e3c32",
   "metadata": {
    "slideshow": {
     "slide_type": "fragment"
    }
   },
   "outputs": [
    {
     "data": {
      "text/plain": [
       "{3.14159, 42, None, 'foo'}"
      ]
     },
     "execution_count": 19,
     "metadata": {},
     "output_type": "execute_result"
    }
   ],
   "source": [
    "x = {42, 'foo', 3.14159, None}\n",
    "x"
   ]
  },
  {
   "cell_type": "code",
   "execution_count": 20,
   "id": "eeea7455",
   "metadata": {
    "slideshow": {
     "slide_type": "fragment"
    }
   },
   "outputs": [
    {
     "data": {
      "text/plain": [
       "{(1, 2, 3), 3.14159, 42, 'foo'}"
      ]
     },
     "execution_count": 20,
     "metadata": {},
     "output_type": "execute_result"
    }
   ],
   "source": [
    "x = {42, 'foo', (1, 2, 3), 3.14159}\n",
    "x"
   ]
  },
  {
   "cell_type": "code",
   "execution_count": 21,
   "id": "9bfeaef0",
   "metadata": {
    "slideshow": {
     "slide_type": "fragment"
    }
   },
   "outputs": [
    {
     "ename": "TypeError",
     "evalue": "unhashable type: 'list'",
     "output_type": "error",
     "traceback": [
      "\u001b[0;31m---------------------------------------------------------------------------\u001b[0m",
      "\u001b[0;31mTypeError\u001b[0m                                 Traceback (most recent call last)",
      "\u001b[0;32m/var/folders/n0/smq5fg256x31yyqwtsnfdpwr0000gn/T/ipykernel_4615/4267400189.py\u001b[0m in \u001b[0;36m<module>\u001b[0;34m\u001b[0m\n\u001b[0;32m----> 1\u001b[0;31m \u001b[0mx\u001b[0m \u001b[0;34m=\u001b[0m \u001b[0;34m{\u001b[0m\u001b[0;36m42\u001b[0m\u001b[0;34m,\u001b[0m \u001b[0;34m'foo'\u001b[0m\u001b[0;34m,\u001b[0m \u001b[0;34m[\u001b[0m\u001b[0;36m1\u001b[0m\u001b[0;34m,\u001b[0m \u001b[0;36m2\u001b[0m\u001b[0;34m,\u001b[0m \u001b[0;36m3\u001b[0m\u001b[0;34m]\u001b[0m\u001b[0;34m,\u001b[0m \u001b[0;36m3.14159\u001b[0m\u001b[0;34m}\u001b[0m\u001b[0;34m\u001b[0m\u001b[0;34m\u001b[0m\u001b[0m\n\u001b[0m\u001b[1;32m      2\u001b[0m \u001b[0mx\u001b[0m\u001b[0;34m\u001b[0m\u001b[0;34m\u001b[0m\u001b[0m\n",
      "\u001b[0;31mTypeError\u001b[0m: unhashable type: 'list'"
     ]
    }
   ],
   "source": [
    "x = {42, 'foo', [1, 2, 3], 3.14159}\n",
    "x"
   ]
  },
  {
   "cell_type": "markdown",
   "id": "77c32602",
   "metadata": {
    "slideshow": {
     "slide_type": "slide"
    }
   },
   "source": [
    "#### Operations on sets\n",
    "\n",
    "- union: | or .union()\n",
    "- intersection: & or .intersection()\n",
    "- difference: - or .difference()\n",
    "- symmteric difference: ^ or .symmetric_difference()\n",
    "\n",
    "Посмотрим вместе с картинкам в [учебнике Яндекс](https://education.yandex.ru/handbook/python/article/mnozhestva-slovari)"
   ]
  },
  {
   "cell_type": "markdown",
   "id": "0ffa878e",
   "metadata": {
    "slideshow": {
     "slide_type": "slide"
    }
   },
   "source": [
    "### Перейдем к словарям (dictionaries)\n",
    "\n",
    "Это единственный встроенный тип данных вида mapping в Python\n",
    "\n",
    "```python\n",
    "d = {\n",
    "    <key>: <value>,\n",
    "    <key>: <value>,\n",
    "      .\n",
    "      .\n",
    "      .\n",
    "    <key>: <value>\n",
    "}\n",
    "```"
   ]
  },
  {
   "cell_type": "code",
   "execution_count": null,
   "id": "d2d447ed",
   "metadata": {
    "slideshow": {
     "slide_type": "slide"
    }
   },
   "outputs": [],
   "source": [
    "# создаём пустой словарь\n",
    "countries = dict()\n",
    "# вводим первую строку до цикла (можно заменить, использовав оператор-морж)\n",
    "country = input()\n",
    "# создаём счётчик номеров строк\n",
    "str_number = 0\n",
    "# продолжаем цикл, пока не введена строка «СТОП»\n",
    "while country != \"СТОП\":\n",
    "    # если введённой страны нет в словаре, создаём ключ и записываем по ключу список из одного номера строки\n",
    "    if country not in countries:\n",
    "        countries[country] = [str_number]\n",
    "    # иначе добавляем в список по ключу новое значение номера строки\n",
    "    else:\n",
    "        countries[country].append(str_number)\n",
    "    # увеличиваем счётчик\n",
    "    str_number += 1\n",
    "    # вводим следующую строку\n",
    "    country = input()\n",
    "# выводим название страны и полученные списки с новой строки\n",
    "for country in countries:\n",
    "    print(f\"{country}: {countries[country]}\")"
   ]
  },
  {
   "cell_type": "code",
   "execution_count": null,
   "id": "f032583f",
   "metadata": {
    "slideshow": {
     "slide_type": "slide"
    }
   },
   "outputs": [],
   "source": [
    "# создаём пустой словарь\n",
    "countries = dict()\n",
    "# вводим первую строку до цикла (можно заменить, использовав оператор-морж)\n",
    "country = input()\n",
    "# создаём счётчик номеров строк\n",
    "str_number = 0\n",
    "# продолжаем цикл, пока не введена строка «СТОП»\n",
    "while country != \"СТОП\":\n",
    "    # Если страна country есть среди ключей, то get() возвращает список, \n",
    "    # хранящийся по этому ключу, иначе get() возвращает пустой список. \n",
    "    # Добавляем в список значение str_number.\n",
    "    countries[country] = countries.get(country, []) + [str_number]\n",
    "    # увеличиваем счётчик\n",
    "    str_number += 1\n",
    "    # вводим следующую строку\n",
    "    country = input()\n",
    "# выводим название страны и полученные списки с новой строки\n",
    "for country in countries:\n",
    "    print(f\"{country}: {countries[country]}\")"
   ]
  },
  {
   "cell_type": "markdown",
   "id": "5bb41df1",
   "metadata": {
    "slideshow": {
     "slide_type": "slide"
    }
   },
   "source": [
    "### Стоит еще упомянуть ограничения на ключи"
   ]
  },
  {
   "cell_type": "code",
   "execution_count": 22,
   "id": "11a1382d",
   "metadata": {
    "slideshow": {
     "slide_type": "fragment"
    }
   },
   "outputs": [
    {
     "data": {
      "text/plain": [
       "'c'"
      ]
     },
     "execution_count": 22,
     "metadata": {},
     "output_type": "execute_result"
    }
   ],
   "source": [
    "d = {(1, 1): 'a', (1, 2): 'b', (2, 1): 'c', (2, 2): 'd'}\n",
    "d[(1,1)]\n",
    "\n",
    "d[(2,1)]"
   ]
  },
  {
   "cell_type": "code",
   "execution_count": 24,
   "id": "c2c6d5d9",
   "metadata": {
    "slideshow": {
     "slide_type": "fragment"
    }
   },
   "outputs": [
    {
     "ename": "TypeError",
     "evalue": "unhashable type: 'list'",
     "output_type": "error",
     "traceback": [
      "\u001b[0;31m---------------------------------------------------------------------------\u001b[0m",
      "\u001b[0;31mTypeError\u001b[0m                                 Traceback (most recent call last)",
      "\u001b[0;32m/var/folders/n0/smq5fg256x31yyqwtsnfdpwr0000gn/T/ipykernel_4615/2252180456.py\u001b[0m in \u001b[0;36m<module>\u001b[0;34m\u001b[0m\n\u001b[0;32m----> 1\u001b[0;31m \u001b[0md\u001b[0m \u001b[0;34m=\u001b[0m \u001b[0;34m{\u001b[0m\u001b[0;34m[\u001b[0m\u001b[0;36m1\u001b[0m\u001b[0;34m,\u001b[0m \u001b[0;36m1\u001b[0m\u001b[0;34m]\u001b[0m\u001b[0;34m:\u001b[0m \u001b[0;34m'a'\u001b[0m\u001b[0;34m,\u001b[0m \u001b[0;34m[\u001b[0m\u001b[0;36m1\u001b[0m\u001b[0;34m,\u001b[0m \u001b[0;36m2\u001b[0m\u001b[0;34m]\u001b[0m\u001b[0;34m:\u001b[0m \u001b[0;34m'b'\u001b[0m\u001b[0;34m,\u001b[0m \u001b[0;34m[\u001b[0m\u001b[0;36m2\u001b[0m\u001b[0;34m,\u001b[0m \u001b[0;36m1\u001b[0m\u001b[0;34m]\u001b[0m\u001b[0;34m:\u001b[0m \u001b[0;34m'c'\u001b[0m\u001b[0;34m,\u001b[0m \u001b[0;34m[\u001b[0m\u001b[0;36m2\u001b[0m\u001b[0;34m,\u001b[0m \u001b[0;36m2\u001b[0m\u001b[0;34m]\u001b[0m\u001b[0;34m:\u001b[0m \u001b[0;34m'd'\u001b[0m\u001b[0;34m}\u001b[0m\u001b[0;34m\u001b[0m\u001b[0;34m\u001b[0m\u001b[0m\n\u001b[0m",
      "\u001b[0;31mTypeError\u001b[0m: unhashable type: 'list'"
     ]
    }
   ],
   "source": [
    "d = {[1, 1]: 'a', [1, 2]: 'b', [2, 1]: 'c', [2, 2]: 'd'}"
   ]
  },
  {
   "cell_type": "markdown",
   "id": "1e23c2d4",
   "metadata": {
    "slideshow": {
     "slide_type": "slide"
    }
   },
   "source": [
    "### Фух, что-то я надушнил :) \n",
    "### Теперь предлагаю перейти к списочным выражениям "
   ]
  },
  {
   "cell_type": "markdown",
   "id": "ecd2f3e5",
   "metadata": {
    "slideshow": {
     "slide_type": "slide"
    }
   },
   "source": [
    "Наш план по списочным выражениям:\n",
    "- от циклов к списочным выражениям \n",
    "- списочные выражения с условным оператором\n",
    "- вложенные циклы в списочных выражениях\n",
    "\n",
    "Для самостоятельного изучения можете посмотреть еще [учебник Яндекс](https://education.yandex.ru/handbook/python/article/spisochnye-vyrazheniya-model-pamyati-dlya-tipov-yazyka-python), [Real Python] и погуглите что-то еще."
   ]
  },
  {
   "cell_type": "code",
   "execution_count": 36,
   "id": "d78d82b8",
   "metadata": {
    "slideshow": {
     "slide_type": "slide"
    }
   },
   "outputs": [
    {
     "name": "stdout",
     "output_type": "stream",
     "text": [
      "овыд\n"
     ]
    },
    {
     "ename": "ValueError",
     "evalue": "invalid literal for int() with base 10: 'овыд'",
     "output_type": "error",
     "traceback": [
      "\u001b[0;31m---------------------------------------------------------------------------\u001b[0m",
      "\u001b[0;31mValueError\u001b[0m                                Traceback (most recent call last)",
      "\u001b[0;32m/var/folders/n0/smq5fg256x31yyqwtsnfdpwr0000gn/T/ipykernel_4615/1091973998.py\u001b[0m in \u001b[0;36m<module>\u001b[0;34m\u001b[0m\n\u001b[1;32m      2\u001b[0m \u001b[0mnumbers\u001b[0m \u001b[0;34m=\u001b[0m \u001b[0;34m[\u001b[0m\u001b[0;34m]\u001b[0m\u001b[0;34m\u001b[0m\u001b[0;34m\u001b[0m\u001b[0m\n\u001b[1;32m      3\u001b[0m \u001b[0;32mfor\u001b[0m \u001b[0mi\u001b[0m \u001b[0;32min\u001b[0m \u001b[0mrange\u001b[0m\u001b[0;34m(\u001b[0m\u001b[0;36m5\u001b[0m\u001b[0;34m)\u001b[0m\u001b[0;34m:\u001b[0m\u001b[0;34m\u001b[0m\u001b[0;34m\u001b[0m\u001b[0m\n\u001b[0;32m----> 4\u001b[0;31m     \u001b[0mnumbers\u001b[0m\u001b[0;34m.\u001b[0m\u001b[0mappend\u001b[0m\u001b[0;34m(\u001b[0m\u001b[0mint\u001b[0m\u001b[0;34m(\u001b[0m\u001b[0minput\u001b[0m\u001b[0;34m(\u001b[0m\u001b[0;34m)\u001b[0m\u001b[0;34m)\u001b[0m\u001b[0;34m)\u001b[0m\u001b[0;34m\u001b[0m\u001b[0;34m\u001b[0m\u001b[0m\n\u001b[0m\u001b[1;32m      5\u001b[0m \u001b[0mprint\u001b[0m\u001b[0;34m(\u001b[0m\u001b[0mnumbers\u001b[0m\u001b[0;34m)\u001b[0m\u001b[0;34m\u001b[0m\u001b[0;34m\u001b[0m\u001b[0m\n",
      "\u001b[0;31mValueError\u001b[0m: invalid literal for int() with base 10: 'овыд'"
     ]
    }
   ],
   "source": [
    "# мы знаем циклы\n",
    "numbers = []\n",
    "for i in range(5):\n",
    "    numbers.append(int(input()))\n",
    "print(numbers)"
   ]
  },
  {
   "cell_type": "markdown",
   "id": "a9d11db9",
   "metadata": {
    "slideshow": {
     "slide_type": "slide"
    }
   },
   "source": [
    "#### Базовое списочное выражение\n",
    "\n",
    "```python \n",
    "new_list = [expression for member in iterable]\n",
    "```"
   ]
  },
  {
   "cell_type": "code",
   "execution_count": 38,
   "id": "02ecf853",
   "metadata": {
    "slideshow": {
     "slide_type": "fragment"
    }
   },
   "outputs": [
    {
     "ename": "KeyboardInterrupt",
     "evalue": "Interrupted by user",
     "output_type": "error",
     "traceback": [
      "\u001b[0;31m---------------------------------------------------------------------------\u001b[0m",
      "\u001b[0;31mKeyboardInterrupt\u001b[0m                         Traceback (most recent call last)",
      "\u001b[0;32m/var/folders/n0/smq5fg256x31yyqwtsnfdpwr0000gn/T/ipykernel_4615/3927651771.py\u001b[0m in \u001b[0;36m<module>\u001b[0;34m\u001b[0m\n\u001b[1;32m      1\u001b[0m \u001b[0;31m# Перепишем под списочное выражение\u001b[0m\u001b[0;34m\u001b[0m\u001b[0;34m\u001b[0m\u001b[0m\n\u001b[1;32m      2\u001b[0m \u001b[0;34m\u001b[0m\u001b[0m\n\u001b[0;32m----> 3\u001b[0;31m \u001b[0mnumbers\u001b[0m \u001b[0;34m=\u001b[0m \u001b[0;34m[\u001b[0m\u001b[0mint\u001b[0m\u001b[0;34m(\u001b[0m\u001b[0minput\u001b[0m\u001b[0;34m(\u001b[0m\u001b[0;34m)\u001b[0m\u001b[0;34m)\u001b[0m \u001b[0;32mfor\u001b[0m \u001b[0mi\u001b[0m \u001b[0;32min\u001b[0m \u001b[0mrange\u001b[0m\u001b[0;34m(\u001b[0m\u001b[0;36m5\u001b[0m\u001b[0;34m)\u001b[0m\u001b[0;34m]\u001b[0m\u001b[0;34m\u001b[0m\u001b[0;34m\u001b[0m\u001b[0m\n\u001b[0m\u001b[1;32m      4\u001b[0m \u001b[0mprint\u001b[0m\u001b[0;34m(\u001b[0m\u001b[0mnumbers\u001b[0m\u001b[0;34m)\u001b[0m\u001b[0;34m\u001b[0m\u001b[0;34m\u001b[0m\u001b[0m\n",
      "\u001b[0;32m/var/folders/n0/smq5fg256x31yyqwtsnfdpwr0000gn/T/ipykernel_4615/3927651771.py\u001b[0m in \u001b[0;36m<listcomp>\u001b[0;34m(.0)\u001b[0m\n\u001b[1;32m      1\u001b[0m \u001b[0;31m# Перепишем под списочное выражение\u001b[0m\u001b[0;34m\u001b[0m\u001b[0;34m\u001b[0m\u001b[0m\n\u001b[1;32m      2\u001b[0m \u001b[0;34m\u001b[0m\u001b[0m\n\u001b[0;32m----> 3\u001b[0;31m \u001b[0mnumbers\u001b[0m \u001b[0;34m=\u001b[0m \u001b[0;34m[\u001b[0m\u001b[0mint\u001b[0m\u001b[0;34m(\u001b[0m\u001b[0minput\u001b[0m\u001b[0;34m(\u001b[0m\u001b[0;34m)\u001b[0m\u001b[0;34m)\u001b[0m \u001b[0;32mfor\u001b[0m \u001b[0mi\u001b[0m \u001b[0;32min\u001b[0m \u001b[0mrange\u001b[0m\u001b[0;34m(\u001b[0m\u001b[0;36m5\u001b[0m\u001b[0;34m)\u001b[0m\u001b[0;34m]\u001b[0m\u001b[0;34m\u001b[0m\u001b[0;34m\u001b[0m\u001b[0m\n\u001b[0m\u001b[1;32m      4\u001b[0m \u001b[0mprint\u001b[0m\u001b[0;34m(\u001b[0m\u001b[0mnumbers\u001b[0m\u001b[0;34m)\u001b[0m\u001b[0;34m\u001b[0m\u001b[0;34m\u001b[0m\u001b[0m\n",
      "\u001b[0;32m~/opt/anaconda3/lib/python3.9/site-packages/ipykernel/kernelbase.py\u001b[0m in \u001b[0;36mraw_input\u001b[0;34m(self, prompt)\u001b[0m\n\u001b[1;32m   1175\u001b[0m                 \u001b[0;34m\"raw_input was called, but this frontend does not support input requests.\"\u001b[0m\u001b[0;34m\u001b[0m\u001b[0;34m\u001b[0m\u001b[0m\n\u001b[1;32m   1176\u001b[0m             )\n\u001b[0;32m-> 1177\u001b[0;31m         return self._input_request(\n\u001b[0m\u001b[1;32m   1178\u001b[0m             \u001b[0mstr\u001b[0m\u001b[0;34m(\u001b[0m\u001b[0mprompt\u001b[0m\u001b[0;34m)\u001b[0m\u001b[0;34m,\u001b[0m\u001b[0;34m\u001b[0m\u001b[0;34m\u001b[0m\u001b[0m\n\u001b[1;32m   1179\u001b[0m             \u001b[0mself\u001b[0m\u001b[0;34m.\u001b[0m\u001b[0m_parent_ident\u001b[0m\u001b[0;34m[\u001b[0m\u001b[0;34m\"shell\"\u001b[0m\u001b[0;34m]\u001b[0m\u001b[0;34m,\u001b[0m\u001b[0;34m\u001b[0m\u001b[0;34m\u001b[0m\u001b[0m\n",
      "\u001b[0;32m~/opt/anaconda3/lib/python3.9/site-packages/ipykernel/kernelbase.py\u001b[0m in \u001b[0;36m_input_request\u001b[0;34m(self, prompt, ident, parent, password)\u001b[0m\n\u001b[1;32m   1217\u001b[0m             \u001b[0;32mexcept\u001b[0m \u001b[0mKeyboardInterrupt\u001b[0m\u001b[0;34m:\u001b[0m\u001b[0;34m\u001b[0m\u001b[0;34m\u001b[0m\u001b[0m\n\u001b[1;32m   1218\u001b[0m                 \u001b[0;31m# re-raise KeyboardInterrupt, to truncate traceback\u001b[0m\u001b[0;34m\u001b[0m\u001b[0;34m\u001b[0m\u001b[0m\n\u001b[0;32m-> 1219\u001b[0;31m                 \u001b[0;32mraise\u001b[0m \u001b[0mKeyboardInterrupt\u001b[0m\u001b[0;34m(\u001b[0m\u001b[0;34m\"Interrupted by user\"\u001b[0m\u001b[0;34m)\u001b[0m \u001b[0;32mfrom\u001b[0m \u001b[0;32mNone\u001b[0m\u001b[0;34m\u001b[0m\u001b[0;34m\u001b[0m\u001b[0m\n\u001b[0m\u001b[1;32m   1220\u001b[0m             \u001b[0;32mexcept\u001b[0m \u001b[0mException\u001b[0m\u001b[0;34m:\u001b[0m\u001b[0;34m\u001b[0m\u001b[0;34m\u001b[0m\u001b[0m\n\u001b[1;32m   1221\u001b[0m                 \u001b[0mself\u001b[0m\u001b[0;34m.\u001b[0m\u001b[0mlog\u001b[0m\u001b[0;34m.\u001b[0m\u001b[0mwarning\u001b[0m\u001b[0;34m(\u001b[0m\u001b[0;34m\"Invalid Message:\"\u001b[0m\u001b[0;34m,\u001b[0m \u001b[0mexc_info\u001b[0m\u001b[0;34m=\u001b[0m\u001b[0;32mTrue\u001b[0m\u001b[0;34m)\u001b[0m\u001b[0;34m\u001b[0m\u001b[0;34m\u001b[0m\u001b[0m\n",
      "\u001b[0;31mKeyboardInterrupt\u001b[0m: Interrupted by user"
     ]
    }
   ],
   "source": [
    "# Перепишем под списочное выражение \n",
    "\n",
    "numbers = [int(input()) for i in range(5)]\n",
    "print(numbers)"
   ]
  },
  {
   "cell_type": "code",
   "execution_count": 32,
   "id": "26f8dea0",
   "metadata": {
    "slideshow": {
     "slide_type": "slide"
    }
   },
   "outputs": [
    {
     "data": {
      "text/plain": [
       "['I',\n",
       " ' ',\n",
       " 'j',\n",
       " 'u',\n",
       " 's',\n",
       " 't',\n",
       " ' ',\n",
       " 'w',\n",
       " 'a',\n",
       " 'n',\n",
       " 't',\n",
       " 'e',\n",
       " 'd',\n",
       " ' ',\n",
       " 't',\n",
       " 'o',\n",
       " ' ',\n",
       " 's',\n",
       " 'a',\n",
       " 'y',\n",
       " ' ',\n",
       " '\"',\n",
       " 'H',\n",
       " 'e',\n",
       " 'l',\n",
       " 'l',\n",
       " 'o',\n",
       " ',',\n",
       " ' ',\n",
       " 'W',\n",
       " 'o',\n",
       " 'r',\n",
       " 'l',\n",
       " 'd',\n",
       " '!',\n",
       " '\"']"
      ]
     },
     "execution_count": 32,
     "metadata": {},
     "output_type": "execute_result"
    }
   ],
   "source": [
    "sentence = 'I just wanted to say \"Hello, World!\"'\n",
    "\n",
    "letters = [i for i in sentence]\n",
    "letters"
   ]
  },
  {
   "cell_type": "code",
   "execution_count": 29,
   "id": "df17602f",
   "metadata": {
    "slideshow": {
     "slide_type": "slide"
    }
   },
   "outputs": [
    {
     "data": {
      "text/plain": [
       "[0, 1, 2, 3, 4, 5, 6, 7, 8, 9]"
      ]
     },
     "execution_count": 29,
     "metadata": {},
     "output_type": "execute_result"
    }
   ],
   "source": [
    "numbers = [i for i in range(10)]\n",
    "numbers"
   ]
  },
  {
   "cell_type": "markdown",
   "id": "494bdbca",
   "metadata": {
    "slideshow": {
     "slide_type": "slide"
    }
   },
   "source": [
    "#### Списочные выражения с условием\n",
    "\n",
    "```python \n",
    "new_list = [expression for member in iterable (if conditional)]\n",
    "```"
   ]
  },
  {
   "cell_type": "code",
   "execution_count": 33,
   "id": "ca66586f",
   "metadata": {
    "slideshow": {
     "slide_type": "fragment"
    }
   },
   "outputs": [
    {
     "data": {
      "text/plain": [
       "['u', 'a', 'e', 'o', 'a', 'e', 'o', 'o']"
      ]
     },
     "execution_count": 33,
     "metadata": {},
     "output_type": "execute_result"
    }
   ],
   "source": [
    "vowels = [i for i in sentence if i in 'aeiou']\n",
    "vowels"
   ]
  },
  {
   "cell_type": "code",
   "execution_count": 34,
   "id": "0a3d8417",
   "metadata": {
    "slideshow": {
     "slide_type": "slide"
    }
   },
   "outputs": [
    {
     "name": "stdout",
     "output_type": "stream",
     "text": [
      "10\n",
      "4\n",
      "4\n",
      "4\n",
      "4\n",
      "[10]\n"
     ]
    }
   ],
   "source": [
    "numbers = [int(input()) for i in range(5)]\n",
    "avg = sum(numbers) // len(numbers)\n",
    "numbers = [element for element in numbers if element > avg]\n",
    "print(numbers)"
   ]
  },
  {
   "cell_type": "code",
   "execution_count": 35,
   "id": "e7c0d11a",
   "metadata": {
    "slideshow": {
     "slide_type": "fragment"
    }
   },
   "outputs": [
    {
     "name": "stdout",
     "output_type": "stream",
     "text": [
      "101\n",
      "10\n",
      "10\n",
      "10\n",
      "10\n",
      "[101]\n"
     ]
    }
   ],
   "source": [
    "# так лучше - нет лишней переменной\n",
    "numbers = [int(input()) for i in range(5)]\n",
    "numbers = [element for element in numbers if element > sum(numbers) // len(numbers)]\n",
    "print(numbers)"
   ]
  },
  {
   "cell_type": "markdown",
   "id": "60f7d8be",
   "metadata": {
    "slideshow": {
     "slide_type": "slide"
    }
   },
   "source": [
    "#### Давайте посмотрим пример вложенного списочного выражения"
   ]
  },
  {
   "cell_type": "code",
   "execution_count": 39,
   "id": "510f06f0",
   "metadata": {
    "slideshow": {
     "slide_type": "fragment"
    }
   },
   "outputs": [
    {
     "name": "stdout",
     "output_type": "stream",
     "text": [
      "9\n",
      "9\n",
      "9\n",
      "9\n",
      "9\n",
      "[[9], [9], [9], [9], [9]]\n"
     ]
    }
   ],
   "source": [
    "matrix = [[int(x) for x in input().split()] for i in range(5)]\n",
    "print(matrix)"
   ]
  },
  {
   "cell_type": "markdown",
   "id": "7b25e901",
   "metadata": {
    "slideshow": {
     "slide_type": "slide"
    }
   },
   "source": [
    "### Еще один подход к фильтрации списочных выражений\n",
    "\n",
    "Если хотите изменить элемент вместо фильтрации, то применяется следующий синтаксис\n",
    "\n",
    "```python \n",
    "new_list = [expression (if conditional) for member in iterable]\n",
    "```"
   ]
  },
  {
   "cell_type": "code",
   "execution_count": 40,
   "id": "85134bfe",
   "metadata": {
    "slideshow": {
     "slide_type": "fragment"
    }
   },
   "outputs": [
    {
     "data": {
      "text/plain": [
       "[1.25, 0, 10.22, 3.78, 0, 1.16]"
      ]
     },
     "execution_count": 40,
     "metadata": {},
     "output_type": "execute_result"
    }
   ],
   "source": [
    "original_prices = [1.25, -9.45, 10.22, 3.78, -5.92, 1.16]\n",
    "prices = [i if i > 0 else 0 for i in original_prices]\n",
    "prices"
   ]
  },
  {
   "cell_type": "code",
   "execution_count": 41,
   "id": "e17ea1a0",
   "metadata": {
    "slideshow": {
     "slide_type": "slide"
    }
   },
   "outputs": [
    {
     "data": {
      "text/plain": [
       "[1.25, 0, 10.22, 3.78, 0, 1.16]"
      ]
     },
     "execution_count": 41,
     "metadata": {},
     "output_type": "execute_result"
    }
   ],
   "source": [
    "# Если пример кажется не очень читабельным, никто не запрещает вам пользоваться функциями\n",
    "\n",
    "def get_price(price):\n",
    "    return price if price > 0 else 0\n",
    "prices = [get_price(i) for i in original_prices]\n",
    "prices"
   ]
  },
  {
   "cell_type": "markdown",
   "id": "1fa2c81b",
   "metadata": {
    "slideshow": {
     "slide_type": "slide"
    }
   },
   "source": [
    "### Set comprehensions\n",
    "\n",
    "- Синтаксис со множествами почти идентичный\n",
    "\n",
    "Единственное отличие заключается в **отсутствии дупликатов** во множествах\n",
    "\n",
    "##### Задание\n",
    "Давайте посмотрим один пример, а вы дальше адаптируете **ВСЕ приведенные выше примеры** под множества"
   ]
  },
  {
   "cell_type": "code",
   "execution_count": null,
   "id": "8523c0a3",
   "metadata": {
    "slideshow": {
     "slide_type": "fragment"
    }
   },
   "outputs": [],
   "source": [
    "quote = \"life, uh, finds a way\"\n",
    "unique_vowels = {i for i in quote if i in 'aeiou'}\n",
    "unique_vowels\n",
    "{'a', 'e', 'u', 'i'}"
   ]
  },
  {
   "cell_type": "markdown",
   "id": "c17a0e2d",
   "metadata": {
    "slideshow": {
     "slide_type": "slide"
    }
   },
   "source": [
    "### Dictionary comprehensions\n",
    "\n",
    "- Единственным дополнением здесь является необходимость определения ключа\n"
   ]
  },
  {
   "cell_type": "markdown",
   "id": "5f431c2b",
   "metadata": {
    "slideshow": {
     "slide_type": "slide"
    }
   },
   "source": [
    "#### Рассмотрим списочные выражения для создания словарей"
   ]
  },
  {
   "cell_type": "code",
   "execution_count": 42,
   "id": "9e4d6130",
   "metadata": {
    "slideshow": {
     "slide_type": "fragment"
    }
   },
   "outputs": [
    {
     "data": {
      "text/plain": [
       "{0: 0, 1: 1, 2: 4, 3: 9, 4: 16, 5: 25, 6: 36, 7: 49, 8: 64, 9: 81}"
      ]
     },
     "execution_count": 42,
     "metadata": {},
     "output_type": "execute_result"
    }
   ],
   "source": [
    "squares = {i: i * i for i in range(10)}\n",
    "squares"
   ]
  },
  {
   "cell_type": "code",
   "execution_count": 43,
   "id": "f2f4a99e",
   "metadata": {
    "slideshow": {
     "slide_type": "fragment"
    }
   },
   "outputs": [
    {
     "name": "stdout",
     "output_type": "stream",
     "text": [
      "{'Россия': 'Москва', 'Беларусь': 'Минск', 'Сербия': 'Белград'}\n"
     ]
    }
   ],
   "source": [
    "countries = {country: capital for country, capital in\n",
    "             [(\"Россия\", \"Москва\"),\n",
    "              (\"Беларусь\", \"Минск\"),\n",
    "              (\"Сербия\", \"Белград\")]}\n",
    "print(countries)"
   ]
  },
  {
   "cell_type": "markdown",
   "id": "1eacb94b",
   "metadata": {
    "slideshow": {
     "slide_type": "slide"
    }
   },
   "source": [
    "#### Рассмотрим списочные выражения для обработки словарей"
   ]
  },
  {
   "cell_type": "code",
   "execution_count": 44,
   "id": "5a145927",
   "metadata": {
    "slideshow": {
     "slide_type": "fragment"
    }
   },
   "outputs": [
    {
     "name": "stdout",
     "output_type": "stream",
     "text": [
      "['Беларусь', 'Бельгия']\n"
     ]
    }
   ],
   "source": [
    "countries = {\"Россия\": [\"русский\"],\n",
    "             \"Беларусь\": [\"белорусский\", \"русский\"],\n",
    "             \"Бельгия\": [\"немецкий\", \"французский\", \"нидерландский\"],\n",
    "             \"Вьетнам\": [\"вьетнамский\"]}\n",
    "multiple_lang = [country for (country, lang) in countries.items() if len(lang) > 1]\n",
    "print(multiple_lang)"
   ]
  },
  {
   "cell_type": "markdown",
   "id": "52d0fe06",
   "metadata": {
    "slideshow": {
     "slide_type": "slide"
    }
   },
   "source": [
    "### Generator Comprehensions\n",
    "\n",
    "Списочные выражения хранят весь список в памяти, но это рабочая схема только для маленьких объемов данных. В случае с миллиардами записей генераторы работают лучше, так как структура не хранится в памяти. Вместо этого, генератор возвращает итератор.\n",
    "\n",
    "**Про итераторы и генераторы поговорим подробнее на следующем занятии**"
   ]
  },
  {
   "cell_type": "code",
   "execution_count": 45,
   "id": "04c5c467",
   "metadata": {
    "slideshow": {
     "slide_type": "fragment"
    }
   },
   "outputs": [
    {
     "name": "stdout",
     "output_type": "stream",
     "text": [
      "<generator object <genexpr> at 0x7fd9b80937b0>\n"
     ]
    }
   ],
   "source": [
    "# мы нигде не использовали значения \n",
    "numbers = (int(input()) for i in range(5))\n",
    "print(numbers)\n"
   ]
  },
  {
   "cell_type": "code",
   "execution_count": 46,
   "id": "fc8f56a7",
   "metadata": {
    "slideshow": {
     "slide_type": "slide"
    }
   },
   "outputs": [
    {
     "name": "stdout",
     "output_type": "stream",
     "text": [
      "Итератор занимает 112 байт.\n",
      "Список занимает 8000056 байт.\n"
     ]
    }
   ],
   "source": [
    "from sys import getsizeof\n",
    "\n",
    "# Создаём итератор из одного миллиона целых чисел\n",
    "numbers_iter = (i for i in range(10 ** 6))\n",
    "# Выводим количество байт, занятых итератором\n",
    "print(f\"Итератор занимает {getsizeof(numbers_iter)} байт.\")\n",
    "# Создаём список\n",
    "numbers_list = list(range(10 ** 6))\n",
    "# Выводим количество байт, занятых списком\n",
    "print(f\"Список занимает {getsizeof(numbers_list)} байт.\")"
   ]
  },
  {
   "cell_type": "markdown",
   "id": "3d37c6f2",
   "metadata": {
    "slideshow": {
     "slide_type": "slide"
    }
   },
   "source": [
    "### Работа с файлами в python"
   ]
  },
  {
   "cell_type": "markdown",
   "id": "255675c5",
   "metadata": {
    "slideshow": {
     "slide_type": "fragment"
    }
   },
   "source": [
    "Для работы с файлами в Python есть встроенная функция open(), которая имеет следующие основные аргументы:\n",
    "\n",
    "file — строка, содержащая путь до файла. Путь может быть абсолютным (от буквы диска в Windows или от корневой папки в Linux) или относительным (от папки, в которой находится запущенная программа);\n",
    "\n",
    "    mode — режим доступа к файлу. Рассмотрим следующие режимы:\n",
    "    \"r\" — режим чтения текстового файла; является режимом по умолчанию;\n",
    "    \"w\" — режим записи нового текстового файла; файл всегда создаётся заново;\n",
    "    \"a\" — режим записи текстового файла; если файла нет, то он создаётся, иначе данные добавляются в конец существующего файла;\n",
    "    \"+\" — добавляется в конец обозначения предыдущих режимов и позволяет работать с файлом одновременно в режиме чтения и записи.\n",
    "    encoding — строка, содержащая обозначение кодировки текстового файла (например, \"UTF-8\")."
   ]
  },
  {
   "cell_type": "markdown",
   "id": "796c6030",
   "metadata": {
    "slideshow": {
     "slide_type": "slide"
    }
   },
   "source": [
    "### На следующем задании разберемся с генераторами и чтением огромных файлов при помощи генераторов"
   ]
  },
  {
   "cell_type": "code",
   "execution_count": null,
   "id": "92e05d61",
   "metadata": {},
   "outputs": [],
   "source": []
  }
 ],
 "metadata": {
  "celltoolbar": "Slideshow",
  "kernelspec": {
   "display_name": "Python 3 (ipykernel)",
   "language": "python",
   "name": "python3"
  },
  "language_info": {
   "codemirror_mode": {
    "name": "ipython",
    "version": 3
   },
   "file_extension": ".py",
   "mimetype": "text/x-python",
   "name": "python",
   "nbconvert_exporter": "python",
   "pygments_lexer": "ipython3",
   "version": "3.9.13"
  }
 },
 "nbformat": 4,
 "nbformat_minor": 5
}
